{
  "nbformat": 4,
  "nbformat_minor": 0,
  "metadata": {
    "colab": {
      "provenance": [],
      "toc_visible": true,
      "authorship_tag": "ABX9TyOcvyfc7LvbrTI/02vyzZbO",
      "include_colab_link": true
    },
    "kernelspec": {
      "name": "python3",
      "display_name": "Python 3"
    },
    "language_info": {
      "name": "python"
    }
  },
  "cells": [
    {
      "cell_type": "markdown",
      "metadata": {
        "id": "view-in-github",
        "colab_type": "text"
      },
      "source": [
        "<a href=\"https://colab.research.google.com/github/daari-git/Basic-Stock-market-predicition-Using-ANN/blob/main/ANN_Project.ipynb\" target=\"_parent\"><img src=\"https://colab.research.google.com/assets/colab-badge.svg\" alt=\"Open In Colab\"/></a>"
      ]
    },
    {
      "cell_type": "markdown",
      "source": [
        "#Importing the Library"
      ],
      "metadata": {
        "id": "yfaP2gdYzwpt"
      }
    },
    {
      "cell_type": "code",
      "source": [
        "import numpy as np\n",
        "import pandas as pd\n",
        "from sklearn.preprocessing import MinMaxScaler\n",
        "from sklearn.impute import SimpleImputer\n",
        "from sklearn.metrics import mean_absolute_error, mean_squared_error,r2_score"
      ],
      "metadata": {
        "id": "X6lfiraRzU9d"
      },
      "execution_count": null,
      "outputs": []
    },
    {
      "cell_type": "markdown",
      "source": [
        "#Importing Dataset"
      ],
      "metadata": {
        "id": "q2l95WOsz7bs"
      }
    },
    {
      "cell_type": "code",
      "source": [
        "dataset = pd.read_csv(\"Tesla_Stock_Cleaned (1).csv\")"
      ],
      "metadata": {
        "id": "gRkdlLyY0DD1"
      },
      "execution_count": null,
      "outputs": []
    },
    {
      "cell_type": "markdown",
      "source": [
        "#Dataclean"
      ],
      "metadata": {
        "id": "_qiGgJEl0Dpc"
      }
    },
    {
      "cell_type": "code",
      "source": [
        "dataset.iloc[:, 2:] = dataset.iloc[:, 2:].apply(pd.to_numeric, errors='coerce')\n",
        "dataset.iloc[:, 2:] = dataset.iloc[:, 2:].infer_objects(copy=False)\n",
        "\n",
        "\n",
        "imputer = SimpleImputer(strategy='mean')\n",
        "dataset.iloc[:, 2:] = imputer.fit_transform(dataset.iloc[:, 2:])\n",
        "\n",
        "\n",
        "dataset.iloc[:, 2:] = dataset.iloc[:, 2:].astype(np.float64)\n"
      ],
      "metadata": {
        "id": "xGkatkb4yMxu"
      },
      "execution_count": null,
      "outputs": []
    },
    {
      "cell_type": "markdown",
      "source": [
        "#Normalization"
      ],
      "metadata": {
        "id": "36j_L_5R0JEM"
      }
    },
    {
      "cell_type": "code",
      "execution_count": null,
      "metadata": {
        "id": "ZX1idC0uxtYX"
      },
      "outputs": [],
      "source": [
        "target_scaler = MinMaxScaler()\n",
        "dataset.iloc[:, -1:] = target_scaler.fit_transform(dataset.iloc[:, -1:])\n",
        "\n",
        "input_values = dataset.iloc[-1, 2:-1].values\n",
        "target = dataset.iloc[-1, -1]\n"
      ]
    },
    {
      "cell_type": "markdown",
      "source": [
        "#Define Input and weights, with bias"
      ],
      "metadata": {
        "id": "xeQI8pyT0OSs"
      }
    },
    {
      "cell_type": "code",
      "source": [
        "input_values = dataset.iloc[-1, 2:-1].values\n",
        "target = dataset.iloc[-1, -1]\n",
        "\n",
        "learning_rate = 0.1\n",
        "np.random.seed(42)\n",
        "w1 = np.random.rand(len(input_values)).astype(np.float64)\n",
        "b1 = np.random.random()\n",
        "w2 = np.random.random()\n",
        "b2 = np.random.random()\n"
      ],
      "metadata": {
        "id": "hwOUe1zNxubl"
      },
      "execution_count": null,
      "outputs": []
    },
    {
      "cell_type": "markdown",
      "source": [
        "#Sigmoid Function"
      ],
      "metadata": {
        "id": "TYODmRfA0VTE"
      }
    },
    {
      "cell_type": "code",
      "source": [
        "def sigmoid(x):\n",
        "    return 1 / (1 + np.exp(-x))\n",
        "\n",
        "def sigmoid_derivative(x):\n",
        "    return x * (1 - x)\n"
      ],
      "metadata": {
        "id": "MbCqW_lzyEFM"
      },
      "execution_count": null,
      "outputs": []
    },
    {
      "cell_type": "markdown",
      "source": [
        "#Forward,Backpropagation and weight update"
      ],
      "metadata": {
        "id": "Sv46wTlD0Ywj"
      }
    },
    {
      "cell_type": "code",
      "source": [
        "for i in range(1000):\n",
        "  #forward\n",
        "  hidden_input = np.dot(input_values, w1) + b1\n",
        "  hidden_output = sigmoid(hidden_input)\n",
        "\n",
        "  output_input = hidden_output * w2 + b2\n",
        "  output = sigmoid(output_input)\n",
        "  error = target - output\n",
        "\n",
        "  # Backpropagation\n",
        "  output_gradient = error * sigmoid_derivative(output)\n",
        "  w2_update = learning_rate * output_gradient * hidden_output\n",
        "  b2_update = learning_rate * output_gradient\n",
        "\n",
        "  hidden_gradient = output_gradient * w2 * sigmoid_derivative(hidden_output)\n",
        "  w1_update = learning_rate * hidden_gradient * input_values\n",
        "  b1_update = learning_rate * hidden_gradient\n",
        "\n",
        "  # Ensure updates are float64\n",
        "  w1_update = np.array(w1_update, dtype=np.float64)\n",
        "  w1 += w1_update\n",
        "  w2 += w2_update\n",
        "  b1 += b1_update\n",
        "  b2 += b2_update\n",
        "  if i%10==0:\n",
        "   print(f'Epoch {i}, Error: {error}')"
      ],
      "metadata": {
        "id": "7tfKn8YZzGE8",
        "colab": {
          "base_uri": "https://localhost:8080/"
        },
        "outputId": "c2f15c60-bfa3-4e26-f540-c03405c3c445"
      },
      "execution_count": null,
      "outputs": [
        {
          "output_type": "stream",
          "name": "stdout",
          "text": [
            "Epoch 0, Error: -0.3855183400009714\n",
            "Epoch 10, Error: -0.34107902475084173\n",
            "Epoch 20, Error: -0.300860518283665\n",
            "Epoch 30, Error: -0.2654884325234864\n",
            "Epoch 40, Error: -0.23490761407113217\n",
            "Epoch 50, Error: -0.20868758104846083\n",
            "Epoch 60, Error: -0.18625577438767407\n",
            "Epoch 70, Error: -0.16703270914225624\n",
            "Epoch 80, Error: -0.1504943259861171\n",
            "Epoch 90, Error: -0.13619229392203222\n",
            "Epoch 100, Error: -0.12375383035522805\n",
            "Epoch 110, Error: -0.11287323990373085\n",
            "Epoch 120, Error: -0.10330121536817397\n",
            "Epoch 130, Error: -0.0948345473356563\n",
            "Epoch 140, Error: -0.08730720091163338\n",
            "Epoch 150, Error: -0.08058295008944186\n",
            "Epoch 160, Error: -0.07454944858918197\n",
            "Epoch 170, Error: -0.0691135163039033\n",
            "Epoch 180, Error: -0.06419741203499604\n",
            "Epoch 190, Error: -0.05973588918540343\n",
            "Epoch 200, Error: -0.055673866196052135\n",
            "Epoch 210, Error: -0.05196457737043897\n",
            "Epoch 220, Error: -0.04856809875149656\n",
            "Epoch 230, Error: -0.04545016724415671\n",
            "Epoch 240, Error: -0.04258122970820716\n",
            "Epoch 250, Error: -0.03993567311429008\n",
            "Epoch 260, Error: -0.037491197907378926\n",
            "Epoch 270, Error: -0.03522830519363587\n",
            "Epoch 280, Error: -0.033129874857419084\n",
            "Epoch 290, Error: -0.031180816695631858\n",
            "Epoch 300, Error: -0.029367780488372686\n",
            "Epoch 310, Error: -0.02767891388327126\n",
            "Epoch 320, Error: -0.02610365926433625\n",
            "Epoch 330, Error: -0.024632582561916166\n",
            "Epoch 340, Error: -0.02325722835728289\n",
            "Epoch 350, Error: -0.021969996733235075\n",
            "Epoch 360, Error: -0.02076403818909392\n",
            "Epoch 370, Error: -0.019633163626351813\n",
            "Epoch 380, Error: -0.018571766959586428\n",
            "Epoch 390, Error: -0.01757475834639302\n",
            "Epoch 400, Error: -0.016637506383360118\n",
            "Epoch 410, Error: -0.01575578790056914\n",
            "Epoch 420, Error: -0.014925744218738962\n",
            "Epoch 430, Error: -0.014143842921910815\n",
            "Epoch 440, Error: -0.013406844353019198\n",
            "Epoch 450, Error: -0.012711772166575874\n",
            "Epoch 460, Error: -0.012055887377316138\n",
            "Epoch 470, Error: -0.011436665430251736\n",
            "Epoch 480, Error: -0.010851775889501897\n",
            "Epoch 490, Error: -0.010299064403230834\n",
            "Epoch 500, Error: -0.009776536652162687\n",
            "Epoch 510, Error: -0.009282344031218831\n",
            "Epoch 520, Error: -0.008814770849241232\n",
            "Epoch 530, Error: -0.008372222861663475\n",
            "Epoch 540, Error: -0.007953216976316985\n",
            "Epoch 550, Error: -0.007556371994063477\n",
            "Epoch 560, Error: -0.007180400264256592\n",
            "Epoch 570, Error: -0.006824100150678913\n",
            "Epoch 580, Error: -0.006486349216985349\n",
            "Epoch 590, Error: -0.00616609805217877\n",
            "Epoch 600, Error: -0.005862364666532338\n",
            "Epoch 610, Error: -0.0055742293968988055\n",
            "Epoch 620, Error: -0.005300830267723794\n",
            "Epoch 630, Error: -0.005041358760465436\n",
            "Epoch 640, Error: -0.004795055949670779\n",
            "Epoch 650, Error: -0.004561208968784647\n",
            "Epoch 660, Error: -0.004339147772977614\n",
            "Epoch 670, Error: -0.004128242169954083\n",
            "Epoch 680, Error: -0.003927899092920767\n",
            "Epoch 690, Error: -0.0037375600927214425\n",
            "Epoch 700, Error: -0.003556699028619048\n",
            "Epoch 710, Error: -0.0033848199393945455\n",
            "Epoch 720, Error: -0.0032214550783543072\n",
            "Epoch 730, Error: -0.0030661630975379883\n",
            "Epoch 740, Error: -0.002918527367924806\n",
            "Epoch 750, Error: -0.0027781544237676092\n",
            "Epoch 760, Error: -0.002644672520367569\n",
            "Epoch 770, Error: -0.0025177302956543857\n",
            "Epoch 780, Error: -0.0023969955268728638\n",
            "Epoch 790, Error: -0.0022821539745102315\n",
            "Epoch 800, Error: -0.002172908306345922\n",
            "Epoch 810, Error: -0.0020689770951697606\n",
            "Epoch 820, Error: -0.0019700938843106586\n",
            "Epoch 830, Error: -0.0018760063156553208\n",
            "Epoch 840, Error: -0.001786475315313063\n",
            "Epoch 850, Error: -0.0017012743325155733\n",
            "Epoch 860, Error: -0.001620188627729502\n",
            "Epoch 870, Error: -0.001543014606308124\n",
            "Epoch 880, Error: -0.001469559194323955\n",
            "Epoch 890, Error: -0.0013996392535104707\n",
            "Epoch 900, Error: -0.001333081032497574\n",
            "Epoch 910, Error: -0.0012697196517585108\n",
            "Epoch 920, Error: -0.0012093986198986884\n",
            "Epoch 930, Error: -0.0011519693791077201\n",
            "Epoch 940, Error: -0.0010972908777703572\n",
            "Epoch 950, Error: -0.001045229168390921\n",
            "Epoch 960, Error: -0.0009956570291295153\n",
            "Epoch 970, Error: -0.0009484536073798844\n",
            "Epoch 980, Error: -0.0009035040839396324\n",
            "Epoch 990, Error: -0.0008606993564309884\n"
          ]
        }
      ]
    },
    {
      "cell_type": "markdown",
      "source": [
        "#Output"
      ],
      "metadata": {
        "id": "EafEmcMZ0gfz"
      }
    },
    {
      "cell_type": "code",
      "source": [
        "# Make final prediction\n",
        "test_hidden_input = np.dot(input_values, w1) + b1\n",
        "test_hidden_output = sigmoid(test_hidden_input)\n",
        "test_output_input = test_hidden_output * w2 + b2\n",
        "predicted_price = sigmoid(test_output_input)\n",
        "\n",
        "# Denormalize predicted price\n",
        "predicted_price = target_scaler.inverse_transform([[predicted_price]])[0][0]\n",
        "print(f'Predicted Next Day Price: {predicted_price}')\n"
      ],
      "metadata": {
        "colab": {
          "base_uri": "https://localhost:8080/"
        },
        "id": "HwwiImirzH4c",
        "outputId": "038b9ade-9e90-40e0-8094-755001f5ebde"
      },
      "execution_count": null,
      "outputs": [
        {
          "output_type": "stream",
          "name": "stdout",
          "text": [
            "Predicted Next Day Price: 76994582.43947454\n"
          ]
        }
      ]
    },
    {
      "cell_type": "code",
      "source": [
        "# Denormalize actual target price\n",
        "actual_price = target_scaler.inverse_transform([[target]])[0][0]\n",
        "\n",
        "# Compute Accuracy Metrics\n",
        "mae = mean_absolute_error([actual_price], [predicted_price])\n",
        "mse = mean_squared_error([actual_price], [predicted_price])\n",
        "\n",
        "# Mean Absolute Percentage Error (MAPE)\n",
        "mape = (abs(actual_price - predicted_price) / actual_price) * 100\n",
        "\n",
        "# Custom R1 Score\n",
        "r1 = 1 - (abs(actual_price - predicted_price) / actual_price)\n",
        "\n",
        "# Accuracy (based on MAPE)\n",
        "accuracy = 100 - mape  # Higher accuracy means lower MAPE\n",
        "\n",
        "print(f'Predicted Next Day Price: {predicted_price}')\n",
        "print(f'Actual Next Day Price: {actual_price}')\n",
        "print(f'Mean Absolute Error (MAE): {mae}')\n",
        "print(f'Mean Squared Error (MSE): {mse}')\n",
        "print(f'Mean Absolute Percentage Error (MAPE): {mape:.2f}%')\n",
        "print(f'Custom R1 Score: {r1:.4f}')\n",
        "print(f'Prediction Accuracy: {accuracy:.2f}%')"
      ],
      "metadata": {
        "colab": {
          "base_uri": "https://localhost:8080/"
        },
        "id": "w4Gs2tZtb3AU",
        "outputId": "8bc68db6-ea22-427d-db76-52480372d268"
      },
      "execution_count": null,
      "outputs": [
        {
          "output_type": "stream",
          "name": "stdout",
          "text": [
            "Predicted Next Day Price: 76994582.43947454\n",
            "Actual Next Day Price: 76825100.0\n",
            "Mean Absolute Error (MAE): 169482.43947453797\n",
            "Mean Squared Error (MSE): 28724297290.240425\n",
            "Mean Absolute Percentage Error (MAPE): 0.22%\n",
            "Custom R1 Score: 0.9978\n",
            "Prediction Accuracy: 99.78%\n"
          ]
        }
      ]
    }
  ]
}